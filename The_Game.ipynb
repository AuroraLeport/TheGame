{
 "cells": [
  {
   "cell_type": "code",
   "execution_count": 31,
   "metadata": {},
   "outputs": [],
   "source": [
    "class Student:\n",
    "\n",
    "    NUM_GRADES = 5\n",
    "\n",
    "    def __init__(self, name=''):\n",
    "\n",
    "        self.name = name\n",
    "        self.grades = []\n",
    "        for i in range(Student.NUM_GRADES):\n",
    "            self.grades.append(0)\n",
    "\n",
    "    def getName(self): \n",
    "        return(self.name)\n",
    "\n",
    "    def getGrade(self, i):\n",
    "        return(self.grades[i - 1])\n",
    "\n",
    "    def setGrade(self, i, newGrade):\n",
    "        self.grades[i - 1] = newGrade\n",
    "\n",
    "    def __str__(self):\n",
    "\n",
    "        \"\"\"Format: Name on the first line\n",
    "\n",
    "        and all grades on the second line,\n",
    "\n",
    "        separated by spaces.\n",
    "\n",
    "        \"\"\"\n",
    "\n",
    "        result = self.name + '\\n'\n",
    "        result += ' '.join(map(str, self.grades))\n",
    "        return(result)\n",
    "\n",
    " "
   ]
  },
  {
   "cell_type": "code",
   "execution_count": 32,
   "metadata": {},
   "outputs": [
    {
     "name": "stdout",
     "output_type": "stream",
     "text": [
      "Mary\n",
      "100 100 100 100 100\n"
     ]
    }
   ],
   "source": [
    "s = Student('Mary')\n",
    "for i in range(1, Student.NUM_GRADES + 1):\n",
    "    s.setGrade(i, 100)\n",
    "print(s)"
   ]
  },
  {
   "cell_type": "code",
   "execution_count": 33,
   "metadata": {},
   "outputs": [],
   "source": [
    "s2 = Student()"
   ]
  },
  {
   "cell_type": "code",
   "execution_count": 56,
   "metadata": {},
   "outputs": [],
   "source": [
    "# parameters of Ball:\n",
    "    # Shape\n",
    "        # size\n",
    "    # Position    \n",
    "    # Speed\n",
    "    # Color\n",
    "\n",
    "from turtle import circle\n",
    "from turtle import home"
   ]
  },
  {
   "cell_type": "code",
   "execution_count": 84,
   "metadata": {},
   "outputs": [],
   "source": [
    "class Ball:\n",
    "    def __init__(self, position):\n",
    "        #self.mode = mode\n",
    "        #self.OriginCoordinates = home() # turtle is set to the origin – coordinates (0,0)\n",
    "        self.shape = circle(20)\n",
    "        self.position = position\n",
    "        #self.color = color\n",
    "    \n",
    "    #def UpdatePosition(self):\n",
    "    #    self.shape = shape.circle()"
   ]
  },
  {
   "cell_type": "code",
   "execution_count": 87,
   "metadata": {},
   "outputs": [
    {
     "data": {
      "text/plain": [
       "<__main__.Ball at 0x1109ef898>"
      ]
     },
     "execution_count": 87,
     "metadata": {},
     "output_type": "execute_result"
    }
   ],
   "source": [
    "Ball(mode='standard', position=(0.00,-200.00))"
   ]
  },
  {
   "cell_type": "code",
   "execution_count": null,
   "metadata": {},
   "outputs": [],
   "source": []
  },
  {
   "cell_type": "code",
   "execution_count": null,
   "metadata": {},
   "outputs": [],
   "source": []
  }
 ],
 "metadata": {
  "kernelspec": {
   "display_name": "Python 3",
   "language": "python",
   "name": "python3"
  },
  "language_info": {
   "codemirror_mode": {
    "name": "ipython",
    "version": 3
   },
   "file_extension": ".py",
   "mimetype": "text/x-python",
   "name": "python",
   "nbconvert_exporter": "python",
   "pygments_lexer": "ipython3",
   "version": "3.6.5"
  }
 },
 "nbformat": 4,
 "nbformat_minor": 2
}
