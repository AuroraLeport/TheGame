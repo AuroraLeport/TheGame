{
 "cells": [
  {
   "cell_type": "code",
   "execution_count": null,
   "metadata": {
    "collapsed": true
   },
   "outputs": [],
   "source": [
    "### Helpful articles ### \n",
    "# Explains use of self: https://medium.com/quick-code/understanding-self-in-python-a3704319e5f0\n",
    "# Turtle: https://docs.python.org/3.3/library/turtle.html?highlight=turtle#turtle.xcor"
   ]
  },
  {
   "cell_type": "code",
   "execution_count": null,
   "metadata": {
    "collapsed": true
   },
   "outputs": [],
   "source": [
    "# Example 1 \n",
    "\n",
    "\n",
    "class Student:\n",
    "\n",
    "    NUM_GRADES = 5\n",
    "\n",
    "    def __init__(self, name=''):\n",
    "\n",
    "        self.name = name\n",
    "        self.grades = []\n",
    "        for i in range(Student.NUM_GRADES):\n",
    "            self.grades.append(0)\n",
    "\n",
    "    def getName(self): \n",
    "        return(self.name)\n",
    "\n",
    "    def getGrade(self, i):\n",
    "        return(self.grades[i - 1])\n",
    "\n",
    "    def setGrade(self, i, newGrade):\n",
    "        self.grades[i - 1] = newGrade\n",
    "\n",
    "    def __str__(self):\n",
    "\n",
    "        \"\"\"Format: Name on the first line\n",
    "\n",
    "        and all grades on the second line,\n",
    "\n",
    "        separated by spaces.\n",
    "\n",
    "        \"\"\"\n",
    "\n",
    "        result = self.name + '\\n'\n",
    "        result += ' '.join(map(str, self.grades))\n",
    "        return(result)\n",
    "\n",
    " "
   ]
  },
  {
   "cell_type": "code",
   "execution_count": 388,
   "metadata": {
    "collapsed": false
   },
   "outputs": [
    {
     "name": "stdout",
     "output_type": "stream",
     "text": [
      "Mary\n",
      "100 100 100 100 100\n"
     ]
    }
   ],
   "source": [
    "s = Student('Mary')\n",
    "for i in range(1, Student.NUM_GRADES + 1):\n",
    "    s.setGrade(i, 100)\n",
    "print(s)"
   ]
  },
  {
   "cell_type": "code",
   "execution_count": 389,
   "metadata": {
    "collapsed": true
   },
   "outputs": [],
   "source": [
    "s2 = Student()"
   ]
  },
  {
   "cell_type": "code",
   "execution_count": 422,
   "metadata": {
    "collapsed": false
   },
   "outputs": [],
   "source": [
    "# Example 2\n",
    "\n",
    "\n",
    "from turtle import circle\n",
    "from turtle import home\n",
    "from turtle import Screen\n",
    "from turtle import Turtle\n",
    "from turtle import exitonclick\n",
    "from turtle import color\n",
    "from turtle import begin_fill\n",
    "from turtle import end_fill\n",
    "from turtle import done\n",
    "from turtle import shape\n",
    "from turtle import setup\n",
    "#from turtle import*"
   ]
  },
  {
   "cell_type": "code",
   "execution_count": 392,
   "metadata": {
    "collapsed": false
   },
   "outputs": [],
   "source": [
    "# Two ways to a create screen w/ a ball on it that you can click out of:\n",
    "# First way\n",
    "wn = Screen()\n",
    "aurora = Turtle()\n",
    "aurora.shape(20)\n",
    "aurora.forward(50)\n",
    "#aurora.position(250.0,0.0)\n",
    "wn.exitonclick()"
   ]
  },
  {
   "cell_type": "code",
   "execution_count": 495,
   "metadata": {
    "collapsed": false
   },
   "outputs": [],
   "source": [
    "class DrawCoolThings:\n",
    "    \n",
    "    def __init__(self, window, pointer):\n",
    "        self.pointer = pointer\n",
    "        self.window = window\n",
    "    \n",
    "    def MakeASquareBitch(self, updateForward, updateLeft):\n",
    "        for i in range(0,4):\n",
    "            self.pointer.forward(updateForward)\n",
    "            self.pointer.left(updateLeft)\n",
    "        self.exitonclick = self.window.exitonclick()\n",
    "        \n",
    "    def MakeAReallyFuckingCoolSunThing(self):\n",
    "        self.pointer.color('red', 'yellow')\n",
    "        pointer.begin_fill()\n",
    "        while True:\n",
    "            self.pointer.forward(200)\n",
    "            self.pointer.left(170)\n",
    "            if abs(pointer.position()) < 1:\n",
    "                break\n",
    "        self.pointer.end_fill()\n",
    "        self.pointer.done()\n",
    "        self.window.exitonclick()\n",
    "    "
   ]
  },
  {
   "cell_type": "code",
   "execution_count": 523,
   "metadata": {
    "collapsed": true
   },
   "outputs": [],
   "source": [
    "class DrawCoolThings:\n",
    "    \n",
    "    def __init__(self):\n",
    "        self.pointer = Turtle()\n",
    "        self.window = Screen().setup(width=500, height=500, startx=0, starty=0)\n",
    "    \n",
    "    def MakeASquare(self, updateForward, updateLeft):\n",
    "        #self.window.setup(width=500, height=500, startx=0, starty=0)\n",
    "        for i in range(0,4):\n",
    "            self.pointer.forward(updateForward)\n",
    "            self.pointer.left(updateLeft)\n",
    "        exitonclick = Screen().exitonclick()\n",
    "        \n",
    "    def MakeAReallyCoolSunThing(self):\n",
    "        #self.window.setup(width=500, height=500, startx=0, starty=0)\n",
    "        self.pointer.color('red', 'yellow')\n",
    "        self.pointer.begin_fill()\n",
    "        while True:\n",
    "            self.pointer.forward(200)\n",
    "            self.pointer.left(170)\n",
    "            if abs(self.pointer.position()) < 1:\n",
    "                break\n",
    "        self.pointer.end_fill()\n",
    "        Screen().exitonclick()\n",
    "        self.pointer.done()\n",
    "    "
   ]
  },
  {
   "cell_type": "code",
   "execution_count": null,
   "metadata": {
    "collapsed": false
   },
   "outputs": [],
   "source": [
    "#window = Screen()\n",
    "#pointer = Turtle()\n",
    "\n",
    "d = DrawCoolThings()\n",
    "\n",
    "#print(d.MakeASquare(50,90))\n",
    "print(d.MakeAReallyCoolSunThing())"
   ]
  },
  {
   "cell_type": "code",
   "execution_count": 486,
   "metadata": {
    "collapsed": false
   },
   "outputs": [],
   "source": [
    "#window = Screen()\n",
    "#pointer = Turtle()\n",
    "\n",
    "#d = DrawCoolThings(window, pointer)\n",
    "\n",
    "#print(d.MakeASquareBitch(50,90))\n",
    "#print(d.MakeAReallyFuckingCoolSunThing())"
   ]
  },
  {
   "cell_type": "code",
   "execution_count": 427,
   "metadata": {
    "collapsed": false
   },
   "outputs": [],
   "source": [
    "pointer = Turtle()\n",
    "window = Screen()\n",
    "Screen().setup(width=500, height=500, startx=0, starty=0)\n",
    "pointer.shape('circle')\n",
    "window.exitonclick()"
   ]
  },
  {
   "cell_type": "code",
   "execution_count": null,
   "metadata": {
    "collapsed": true
   },
   "outputs": [],
   "source": [
    "# The GAME!!!\n",
    "\n",
    "# parameters of Ball:\n",
    "    # Shape\n",
    "        # size\n",
    "    # Position    \n",
    "    # Speed\n",
    "    # Color"
   ]
  }
 ],
 "metadata": {
  "kernelspec": {
   "display_name": "Python 2",
   "language": "python",
   "name": "python2"
  },
  "language_info": {
   "codemirror_mode": {
    "name": "ipython",
    "version": 2
   },
   "file_extension": ".py",
   "mimetype": "text/x-python",
   "name": "python",
   "nbconvert_exporter": "python",
   "pygments_lexer": "ipython2",
   "version": "2.7.12"
  }
 },
 "nbformat": 4,
 "nbformat_minor": 2
}
